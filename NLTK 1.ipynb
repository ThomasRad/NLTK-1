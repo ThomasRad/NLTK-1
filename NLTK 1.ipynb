{
 "cells": [
  {
   "cell_type": "markdown",
   "metadata": {},
   "source": [
    "# Following Along Youtube Tutorial"
   ]
  },
  {
   "cell_type": "code",
   "execution_count": 9,
   "metadata": {},
   "outputs": [],
   "source": [
    "# Import\n",
    "\n",
    "import nltk\n",
    "from nltk import sent_tokenize, word_tokenize"
   ]
  },
  {
   "cell_type": "code",
   "execution_count": 2,
   "metadata": {},
   "outputs": [
    {
     "name": "stdout",
     "output_type": "stream",
     "text": [
      "showing info https://raw.githubusercontent.com/nltk/nltk_data/gh-pages/index.xml\n"
     ]
    },
    {
     "data": {
      "text/plain": [
       "True"
      ]
     },
     "execution_count": 2,
     "metadata": {},
     "output_type": "execute_result"
    }
   ],
   "source": [
    "# Download all from the popup window. \n",
    "\n",
    "nltk.download()"
   ]
  },
  {
   "cell_type": "code",
   "execution_count": 3,
   "metadata": {},
   "outputs": [],
   "source": [
    "text = \"Thomas is such a cool guy, I wish I was like him. Don't you? I guess not.\""
   ]
  },
  {
   "cell_type": "code",
   "execution_count": 7,
   "metadata": {},
   "outputs": [
    {
     "name": "stdout",
     "output_type": "stream",
     "text": [
      "['Thomas is such a cool guy, I wish I was like him.', \"Don't you?\", 'I guess not.']\n"
     ]
    }
   ],
   "source": [
    "# Tokenize by sentence.\n",
    "\n",
    "print(sent_tokenize(text))"
   ]
  },
  {
   "cell_type": "code",
   "execution_count": 10,
   "metadata": {},
   "outputs": [
    {
     "name": "stdout",
     "output_type": "stream",
     "text": [
      "['Thomas', 'is', 'such', 'a', 'cool', 'guy', ',', 'I', 'wish', 'I', 'was', 'like', 'him', '.', 'Do', \"n't\", 'you', '?', 'I', 'guess', 'not', '.']\n"
     ]
    }
   ],
   "source": [
    "# Tokenize by words. \n",
    "\n",
    "print(word_tokenize(text))"
   ]
  },
  {
   "cell_type": "code",
   "execution_count": 15,
   "metadata": {},
   "outputs": [
    {
     "data": {
      "text/plain": [
       "[(0, 'Thomas'),\n",
       " (1, 'is'),\n",
       " (2, 'such'),\n",
       " (3, 'a'),\n",
       " (4, 'cool'),\n",
       " (5, 'guy'),\n",
       " (6, ','),\n",
       " (7, 'I'),\n",
       " (8, 'wish'),\n",
       " (9, 'I'),\n",
       " (10, 'was'),\n",
       " (11, 'like'),\n",
       " (12, 'him'),\n",
       " (13, '.'),\n",
       " (14, 'Do'),\n",
       " (15, \"n't\"),\n",
       " (16, 'you'),\n",
       " (17, '?'),\n",
       " (18, 'I'),\n",
       " (19, 'guess'),\n",
       " (20, 'not'),\n",
       " (21, '.')]"
      ]
     },
     "execution_count": 15,
     "metadata": {},
     "output_type": "execute_result"
    }
   ],
   "source": [
    "# Printing out our tokens.\n",
    "\n",
    "list(enumerate(word_tokenize(text)))"
   ]
  }
 ],
 "metadata": {
  "kernelspec": {
   "display_name": "Python 3",
   "language": "python",
   "name": "python3"
  },
  "language_info": {
   "codemirror_mode": {
    "name": "ipython",
    "version": 3
   },
   "file_extension": ".py",
   "mimetype": "text/x-python",
   "name": "python",
   "nbconvert_exporter": "python",
   "pygments_lexer": "ipython3",
   "version": "3.7.6"
  }
 },
 "nbformat": 4,
 "nbformat_minor": 4
}
